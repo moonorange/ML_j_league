{
 "cells": [
  {
   "cell_type": "code",
   "execution_count": 1,
   "metadata": {},
   "outputs": [],
   "source": [
    "# ライブラリの読み込み\n",
    "import numpy as np\n",
    "import pandas as pd\n",
    "import matplotlib.pyplot as plt\n",
    "# グラフをインラインで表示させる\n",
    "%matplotlib inline\n",
    "\n",
    "# Pandasでの表示が省略されないように設定\n",
    "pd.set_option(\"max_columns\", 100)\n",
    "pd.set_option('max_rows',100)\n",
    "pd.set_option('max_info_columns',100)"
   ]
  },
  {
   "cell_type": "code",
   "execution_count": 2,
   "metadata": {},
   "outputs": [],
   "source": [
    "# データの読み込み（csvファイル）\n",
    "train = pd.read_csv('train.csv')\n",
    "train_add = pd.read_csv('train_add.csv')\n",
    "test = pd.read_csv('test.csv')\n",
    "condition = pd.read_csv('condition.csv')\n",
    "condition_add = pd.read_csv('condition_add.csv')\n",
    "stadium = pd.read_csv('stadium.csv')"
   ]
  },
  {
   "cell_type": "code",
   "execution_count": 3,
   "metadata": {},
   "outputs": [],
   "source": [
    "# trainデータと追加データを結合\n",
    "train1 = pd.concat([train, train_add], axis=0)\n",
    "# 'id'順に並べ，indexを振りなおす\n",
    "train2 = train1.sort_values('id').reset_index(drop=True)\n",
    "# conditionデータと追加データを結合\n",
    "condition1 = pd.concat([condition, condition_add], axis=0)\n",
    "# 'id'順に並べ，indexを振りなおす\n",
    "condition2 = condition1.sort_values('id').reset_index(drop=True)\n",
    "# train, testデータを関連付けするために，stadiumデータの名前を変更\n",
    "stadium = stadium.rename(columns= {'name': 'stadium'})"
   ]
  },
  {
   "cell_type": "code",
   "execution_count": 4,
   "metadata": {},
   "outputs": [],
   "source": [
    "# train, condition, stadiumデータを結合\n",
    "train_new = pd.merge(train2, condition2)\n",
    "train_new = pd.merge(train_new, stadium)\n",
    "# test, condition, stadiumデータを結合\n",
    "test_new = pd.merge(test, condition2)\n",
    "test_new = pd.merge(test_new, stadium)"
   ]
  },
  {
   "cell_type": "code",
   "execution_count": 5,
   "metadata": {},
   "outputs": [],
   "source": [
    "# csv出力\n",
    "train_new.to_csv('train_new.csv')\n",
    "test_new.to_csv('test_new.csv')"
   ]
  },
  {
   "cell_type": "code",
   "execution_count": 7,
   "metadata": {},
   "outputs": [
    {
     "name": "stdout",
     "output_type": "stream",
     "text": [
      "<class 'pandas.core.frame.DataFrame'>\n",
      "Int64Index: 1953 entries, 0 to 1952\n",
      "Data columns (total 43 columns):\n",
      "id             1953 non-null int64\n",
      "y              1953 non-null int64\n",
      "year           1953 non-null int64\n",
      "stage          1953 non-null object\n",
      "match          1953 non-null object\n",
      "gameday        1953 non-null object\n",
      "time           1953 non-null object\n",
      "home           1953 non-null object\n",
      "away           1953 non-null object\n",
      "stadium        1953 non-null object\n",
      "tv             1953 non-null object\n",
      "home_score     1953 non-null int64\n",
      "away_score     1953 non-null int64\n",
      "weather        1953 non-null object\n",
      "temperature    1953 non-null float64\n",
      "humidity       1953 non-null object\n",
      "referee        1953 non-null object\n",
      "home_team      1953 non-null object\n",
      "home_01        1953 non-null object\n",
      "home_02        1953 non-null object\n",
      "home_03        1953 non-null object\n",
      "home_04        1953 non-null object\n",
      "home_05        1953 non-null object\n",
      "home_06        1953 non-null object\n",
      "home_07        1953 non-null object\n",
      "home_08        1953 non-null object\n",
      "home_09        1953 non-null object\n",
      "home_10        1953 non-null object\n",
      "home_11        1953 non-null object\n",
      "away_team      1953 non-null object\n",
      "away_01        1953 non-null object\n",
      "away_02        1953 non-null object\n",
      "away_03        1953 non-null object\n",
      "away_04        1953 non-null object\n",
      "away_05        1953 non-null object\n",
      "away_06        1953 non-null object\n",
      "away_07        1953 non-null object\n",
      "away_08        1953 non-null object\n",
      "away_09        1953 non-null object\n",
      "away_10        1953 non-null object\n",
      "away_11        1953 non-null object\n",
      "address        1953 non-null object\n",
      "capa           1953 non-null int64\n",
      "dtypes: float64(1), int64(6), object(36)\n",
      "memory usage: 671.3+ KB\n"
     ]
    }
   ],
   "source": [
    "train_new.info()\n"
   ]
  },
  {
   "cell_type": "code",
   "execution_count": null,
   "metadata": {},
   "outputs": [],
   "source": []
  }
 ],
 "metadata": {
  "kernelspec": {
   "display_name": "Python 3",
   "language": "python",
   "name": "python3"
  },
  "language_info": {
   "codemirror_mode": {
    "name": "ipython",
    "version": 3
   },
   "file_extension": ".py",
   "mimetype": "text/x-python",
   "name": "python",
   "nbconvert_exporter": "python",
   "pygments_lexer": "ipython3",
   "version": "3.7.0"
  }
 },
 "nbformat": 4,
 "nbformat_minor": 2
}
