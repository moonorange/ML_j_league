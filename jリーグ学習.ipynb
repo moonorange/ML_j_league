{
 "cells": [
  {
   "cell_type": "code",
   "execution_count": 589,
   "metadata": {},
   "outputs": [],
   "source": [
    "# ライブラリの読み込み\n",
    "import scipy as sp\n",
    "import numpy as np\n",
    "import pandas as pd\n",
    "import matplotlib.pyplot as plt\n",
    "import seaborn as sns\n",
    "import warnings\n",
    "warnings.filterwarnings('ignore')\n",
    "\n",
    "\n",
    "# グラフをインラインで表示させる\n",
    "%matplotlib inline\n",
    "\n",
    "# Pandasでの表示が省略されないように設定\n",
    "pd.set_option(\"max_columns\", 100)\n",
    "pd.set_option('max_rows',1000)\n",
    "pd.set_option('max_info_columns',100)"
   ]
  },
  {
   "cell_type": "code",
   "execution_count": 590,
   "metadata": {},
   "outputs": [],
   "source": [
    "data = pd.read_csv('merged_data.csv')\n",
    "data = data.drop(\"Unnamed: 0\", axis = 1)\n",
    "\n",
    "test = data[data.isnull().any(axis=1)]\n",
    "ori_test = pd.read_csv('test.csv')\n",
    "train_ori = pd.read_csv('train_new.csv')"
   ]
  },
  {
   "cell_type": "code",
   "execution_count": 591,
   "metadata": {},
   "outputs": [],
   "source": [
    "train = data.dropna()"
   ]
  },
  {
   "cell_type": "code",
   "execution_count": 601,
   "metadata": {},
   "outputs": [],
   "source": [
    "test_ID = ori_test['id']\n",
    "# split data for training\n",
    "y_train = train['y']\n",
    "X_train = train.drop(['y'], axis=1)"
   ]
  },
  {
   "cell_type": "code",
   "execution_count": 602,
   "metadata": {},
   "outputs": [
    {
     "name": "stdout",
     "output_type": "stream",
     "text": [
      "Training done using Random Forest\n"
     ]
    },
    {
     "data": {
      "image/png": "[encoded data removed]",
      "text/plain": [
       "<matplotlib.figure.Figure at 0x1a1f289550>"
      ]
     },
     "metadata": {},
     "output_type": "display_data"
    }
   ],
   "source": [
    "# feature importance using random forest\n",
    "from sklearn.ensemble import RandomForestRegressor\n",
    "rf = RandomForestRegressor(n_estimators=40, max_features='auto')\n",
    "rf.fit(X_train, y_train)\n",
    "print('Training done using Random Forest')\n",
    "\n",
    "ranking = np.argsort(-rf.feature_importances_)\n",
    "f, ax = plt.subplots(figsize=(11, 9))\n",
    "sns.barplot(x=rf.feature_importances_[ranking], y=X_train.columns.values[ranking], orient='h')\n",
    "ax.set_xlabel(\"feature importance\")\n",
    "plt.tight_layout()\n",
    "plt.show()"
   ]
  },
  {
   "cell_type": "code",
   "execution_count": 603,
   "metadata": {},
   "outputs": [],
   "source": [
    "# ホールド・アウト法によるデータの分割\n",
    "# (X, y, テストにどの割合を割くか, 分割のしかたを決める乱数生成器)\n",
    "# テストデータの割合は、test_size引数に指定することで変更可能です（今回は、train:test = 7:3）\n",
    "from sklearn.model_selection import train_test_split\n",
    "X_train, X_test, y_train, y_test = train_test_split(X_train, y_train, test_size = 0.3, random_state = 0)"
   ]
  },
  {
   "cell_type": "code",
   "execution_count": 604,
   "metadata": {},
   "outputs": [
    {
     "data": {
      "text/plain": [
       "LinearRegression(copy_X=True, fit_intercept=True, n_jobs=1, normalize=False)"
      ]
     },
     "execution_count": 604,
     "metadata": {},
     "output_type": "execute_result"
    }
   ],
   "source": [
    "from sklearn.linear_model import LinearRegression\n",
    "lr = LinearRegression()\n",
    "lr.fit(X_train, y_train)"
   ]
  },
  {
   "cell_type": "code",
   "execution_count": 605,
   "metadata": {},
   "outputs": [
    {
     "name": "stdout",
     "output_type": "stream",
     "text": [
      "Parameter optimization\n",
      "Fitting 3 folds for each of 9 candidates, totalling 27 fits\n"
     ]
    },
    {
     "name": "stderr",
     "output_type": "stream",
     "text": [
      "[Parallel(n_jobs=1)]: Done  27 out of  27 | elapsed:    3.9s finished\n"
     ]
    },
    {
     "data": {
      "text/plain": [
       "GridSearchCV(cv=None, error_score='raise',\n",
       "       estimator=RandomForestRegressor(bootstrap=True, criterion='mse', max_depth=None,\n",
       "           max_features='auto', max_leaf_nodes=None,\n",
       "           min_impurity_decrease=0.0, min_impurity_split=None,\n",
       "           min_samples_leaf=1, min_samples_split=2,\n",
       "           min_weight_fraction_leaf=0.0, n_estimators=10, n_jobs=1,\n",
       "           oob_score=False, random_state=None, verbose=0, warm_start=False),\n",
       "       fit_params=None, iid=True, n_jobs=1,\n",
       "       param_grid={'max_depth': [6, 8, 10], 'n_estimators': [20, 40, 60]},\n",
       "       pre_dispatch='2*n_jobs', refit=True, return_train_score='warn',\n",
       "       scoring=None, verbose=1)"
      ]
     },
     "execution_count": 605,
     "metadata": {},
     "output_type": "execute_result"
    }
   ],
   "source": [
    "rf = RandomForestRegressor()\n",
    "print(\"Parameter optimization\")\n",
    "reg_rf = GridSearchCV(rf,\n",
    "                   {'max_depth': [6,8,10],\n",
    "                    'n_estimators': [20,40,60]\n",
    "                    }, verbose=1)\n",
    "reg_rf.fit(X_train, y_train)"
   ]
  },
  {
   "cell_type": "code",
   "execution_count": 606,
   "metadata": {},
   "outputs": [
    {
     "name": "stdout",
     "output_type": "stream",
     "text": [
      "0.9242044104498193\n",
      "0.7794214520985784\n"
     ]
    }
   ],
   "source": [
    "print(reg_rf.score(X_train, y_train))\n",
    "print(reg_rf.score(X_test,y_test))"
   ]
  },
  {
   "cell_type": "code",
   "execution_count": 607,
   "metadata": {},
   "outputs": [
    {
     "name": "stdout",
     "output_type": "stream",
     "text": [
      "0.9484076364425198\n",
      "0.7787593045250238\n"
     ]
    }
   ],
   "source": [
    "rf = RandomForestRegressor(max_depth=10,n_estimators=20)\n",
    "rf.fit(X_train, y_train)\n",
    "\n",
    "print(rf.score(X_train, y_train))\n",
    "print(rf.score(X_test,y_test))"
   ]
  },
  {
   "cell_type": "code",
   "execution_count": 210,
   "metadata": {},
   "outputs": [
    {
     "data": {
      "text/plain": [
       "RandomForestRegressor(bootstrap=True, criterion='mse', max_depth=10,\n",
       "           max_features='auto', max_leaf_nodes=None,\n",
       "           min_impurity_decrease=0.0, min_impurity_split=None,\n",
       "           min_samples_leaf=1, min_samples_split=2,\n",
       "           min_weight_fraction_leaf=0.0, n_estimators=20, n_jobs=1,\n",
       "           oob_score=False, random_state=None, verbose=0, warm_start=False)"
      ]
     },
     "execution_count": 210,
     "metadata": {},
     "output_type": "execute_result"
    }
   ],
   "source": [
    "reg_rf.best_estimator_"
   ]
  },
  {
   "cell_type": "code",
   "execution_count": 608,
   "metadata": {},
   "outputs": [
    {
     "name": "stdout",
     "output_type": "stream",
     "text": [
      "0.7549143538525175\n",
      "0.7009480502720599\n"
     ]
    }
   ],
   "source": [
    "print(lr.score(X_train, y_train))\n",
    "print(lr.score(X_test,y_test))"
   ]
  },
  {
   "cell_type": "code",
   "execution_count": null,
   "metadata": {},
   "outputs": [],
   "source": []
  },
  {
   "cell_type": "code",
   "execution_count": 609,
   "metadata": {},
   "outputs": [
    {
     "name": "stdout",
     "output_type": "stream",
     "text": [
      "Parameter optimization\n",
      "Fitting 3 folds for each of 27 candidates, totalling 81 fits\n"
     ]
    },
    {
     "name": "stderr",
     "output_type": "stream",
     "text": [
      "[Parallel(n_jobs=1)]: Done  81 out of  81 | elapsed:   12.3s finished\n"
     ]
    },
    {
     "data": {
      "text/plain": [
       "GridSearchCV(cv=None, error_score='raise',\n",
       "       estimator=XGBRegressor(base_score=0.5, booster='gbtree', colsample_bylevel=1,\n",
       "       colsample_bytree=1, gamma=0, learning_rate=0.1, max_delta_step=0,\n",
       "       max_depth=3, min_child_weight=1, missing=None, n_estimators=100,\n",
       "       n_jobs=1, nthread=None, objective='reg:linear', random_state=0,\n",
       "       reg_alpha=0, reg_lambda=1, scale_pos_weight=1, seed=None,\n",
       "       silent=True, subsample=1),\n",
       "       fit_params=None, iid=True, n_jobs=1,\n",
       "       param_grid={'max_depth': [2, 4, 6], 'n_estimators': [50, 100, 200], 'reg_lambda': [1, 3, 10]},\n",
       "       pre_dispatch='2*n_jobs', refit=True, return_train_score='warn',\n",
       "       scoring=None, verbose=1)"
      ]
     },
     "execution_count": 609,
     "metadata": {},
     "output_type": "execute_result"
    }
   ],
   "source": [
    "# XGBoost\n",
    "import xgboost as xgb\n",
    "from sklearn.model_selection import GridSearchCV\n",
    "\n",
    "print(\"Parameter optimization\")\n",
    "xgb_model = xgb.XGBRegressor()\n",
    "reg_xgb = GridSearchCV(xgb_model,\n",
    "                   {'max_depth': [2,4,6],\n",
    "                    'n_estimators': [50,100,200],\n",
    "                    'reg_lambda' : [1, 3, 10]}, verbose=1\n",
    "                   )\n",
    "reg_xgb.fit(X_train, y_train)"
   ]
  },
  {
   "cell_type": "code",
   "execution_count": 610,
   "metadata": {},
   "outputs": [
    {
     "name": "stdout",
     "output_type": "stream",
     "text": [
      "Parameter optimization\n"
     ]
    },
    {
     "data": {
      "text/plain": [
       "XGBRegressor(base_score=0.5, booster='gbtree', colsample_bylevel=1,\n",
       "       colsample_bytree=1, gamma=0, learning_rate=0.1, max_delta_step=0,\n",
       "       max_depth=4, min_child_weight=1, missing=None, n_estimators=600,\n",
       "       n_jobs=1, nthread=None, objective='reg:linear', random_state=0,\n",
       "       reg_alpha=0, reg_lambda=1000, scale_pos_weight=1, seed=None,\n",
       "       silent=True, subsample=1)"
      ]
     },
     "execution_count": 610,
     "metadata": {},
     "output_type": "execute_result"
    }
   ],
   "source": [
    "print(\"Parameter optimization\")\n",
    "xgb_model = xgb.XGBRegressor(max_depth=4, n_estimators=600, reg_lambda=1000)\n",
    "xgb_model.fit(X_train, y_train)"
   ]
  },
  {
   "cell_type": "code",
   "execution_count": 611,
   "metadata": {},
   "outputs": [
    {
     "name": "stdout",
     "output_type": "stream",
     "text": [
      "Parameter optimization\n"
     ]
    },
    {
     "data": {
      "text/plain": [
       "XGBRegressor(base_score=0.5, booster='gbtree', colsample_bylevel=1,\n",
       "       colsample_bytree=1, gamma=0, learning_rate=0.5, max_delta_step=0,\n",
       "       max_depth=4, min_child_weight=1, missing=None, n_estimators=50,\n",
       "       n_jobs=1, nthread=None, objective='reg:linear', random_state=0,\n",
       "       reg_alpha=0, reg_lambda=100, scale_pos_weight=1, seed=None,\n",
       "       silent=True, subsample=1)"
      ]
     },
     "execution_count": 611,
     "metadata": {},
     "output_type": "execute_result"
    }
   ],
   "source": [
    "# XGBoost\n",
    "import xgboost as xgb\n",
    "\n",
    "print(\"Parameter optimization\")\n",
    "xgb_model_2 = xgb.XGBRegressor(max_depth=4, n_estimators=50,reg_lambda=100,learning_rate=0.5 )\n",
    "xgb_model_2.fit(X_train, y_train)"
   ]
  },
  {
   "cell_type": "code",
   "execution_count": 612,
   "metadata": {},
   "outputs": [
    {
     "name": "stdout",
     "output_type": "stream",
     "text": [
      "0.884345246934946\n",
      "0.8165802871278101\n"
     ]
    }
   ],
   "source": [
    "print(xgb_model.score(X_train,y_train))\n",
    "print(xgb_model.score(X_test,y_test))"
   ]
  },
  {
   "cell_type": "code",
   "execution_count": 613,
   "metadata": {},
   "outputs": [
    {
     "name": "stdout",
     "output_type": "stream",
     "text": [
      "0.9207034961199201\n",
      "0.8410927709174623\n"
     ]
    }
   ],
   "source": [
    "print(xgb_model_2.score(X_train,y_train))\n",
    "print(xgb_model_2.score(X_test,y_test))"
   ]
  },
  {
   "cell_type": "code",
   "execution_count": 614,
   "metadata": {},
   "outputs": [
    {
     "name": "stdout",
     "output_type": "stream",
     "text": [
      "0.9691501661090541\n",
      "0.8311057946681321\n"
     ]
    }
   ],
   "source": [
    "print(reg_xgb.score(X_train,y_train))\n",
    "print(reg_xgb.score(X_test,y_test))"
   ]
  },
  {
   "cell_type": "code",
   "execution_count": 615,
   "metadata": {},
   "outputs": [],
   "source": [
    "test = test.drop(['id','y'], axis=1)\n"
   ]
  },
  {
   "cell_type": "code",
   "execution_count": 616,
   "metadata": {},
   "outputs": [
    {
     "data": {
      "text/html": [
       "<div>\n",
       "<style scoped>\n",
       "    .dataframe tbody tr th:only-of-type {\n",
       "        vertical-align: middle;\n",
       "    }\n",
       "\n",
       "    .dataframe tbody tr th {\n",
       "        vertical-align: top;\n",
       "    }\n",
       "\n",
       "    .dataframe thead th {\n",
       "        text-align: right;\n",
       "    }\n",
       "</style>\n",
       "<table border=\"1\" class=\"dataframe\">\n",
       "  <thead>\n",
       "    <tr style=\"text-align: right;\">\n",
       "      <th></th>\n",
       "      <th>XGB</th>\n",
       "      <th>XGB_2</th>\n",
       "    </tr>\n",
       "  </thead>\n",
       "  <tbody>\n",
       "    <tr>\n",
       "      <th>0</th>\n",
       "      <td>17484.197266</td>\n",
       "      <td>16034.466797</td>\n",
       "    </tr>\n",
       "    <tr>\n",
       "      <th>1</th>\n",
       "      <td>6637.161133</td>\n",
       "      <td>5837.829102</td>\n",
       "    </tr>\n",
       "    <tr>\n",
       "      <th>2</th>\n",
       "      <td>7899.772461</td>\n",
       "      <td>8217.116211</td>\n",
       "    </tr>\n",
       "    <tr>\n",
       "      <th>3</th>\n",
       "      <td>13192.424805</td>\n",
       "      <td>13606.274414</td>\n",
       "    </tr>\n",
       "    <tr>\n",
       "      <th>4</th>\n",
       "      <td>11295.660156</td>\n",
       "      <td>11055.533203</td>\n",
       "    </tr>\n",
       "  </tbody>\n",
       "</table>\n",
       "</div>"
      ],
      "text/plain": [
       "            XGB         XGB_2\n",
       "0  17484.197266  16034.466797\n",
       "1   6637.161133   5837.829102\n",
       "2   7899.772461   8217.116211\n",
       "3  13192.424805  13606.274414\n",
       "4  11295.660156  11055.533203"
      ]
     },
     "execution_count": 616,
     "metadata": {},
     "output_type": "execute_result"
    }
   ],
   "source": [
    "# second feature matrix\n",
    "X_train2 = pd.DataFrame( {\n",
    "     'XGB': xgb_model_2.predict(X_train),\n",
    "    'XGB_2': xgb_model.predict(X_train)\n",
    "    })\n",
    "X_train2.head(5)"
   ]
  },
  {
   "cell_type": "code",
   "execution_count": 617,
   "metadata": {},
   "outputs": [
    {
     "data": {
      "text/plain": [
       "LinearRegression(copy_X=True, fit_intercept=True, n_jobs=1, normalize=False)"
      ]
     },
     "execution_count": 617,
     "metadata": {},
     "output_type": "execute_result"
    }
   ],
   "source": [
    "# second-feature modeling using linear regression\n",
    "from sklearn import linear_model\n",
    "\n",
    "reg = linear_model.LinearRegression()\n",
    "reg.fit(X_train2, y_train)"
   ]
  },
  {
   "cell_type": "code",
   "execution_count": null,
   "metadata": {},
   "outputs": [],
   "source": []
  },
  {
   "cell_type": "code",
   "execution_count": 618,
   "metadata": {},
   "outputs": [
    {
     "ename": "ValueError",
     "evalue": "feature_names mismatch: ['away_score', 'home_score', 'id', 'match', 'stage', 'time_x', 'weather', 'year', 'NHK', 'NHK_2', 'mean', 'temperature-humidity', 'アビスパ福岡', 'アルビレックス新潟', 'カターレ富山', 'カマタマーレ讃岐', 'ガイナーレ鳥取', 'ガンバ大阪', 'ギラヴァンツ北九州', 'コンサドーレ札幌', 'サガン鳥栖', 'サンフレッチェ広島', 'ザスパクサツ群馬', 'ザスパ草津', 'ジェフユナイテッド千葉', 'ジュビロ磐田', 'セレッソ大阪', 'ファジアーノ岡山', 'ベガルタ仙台', 'モンテディオ山形', 'ロアッソ熊本', 'ヴァンフォーレ甲府', 'ヴィッセル神戸', '京都サンガF.C.', '名古屋グランパス', '大分トリニータ', '大宮アルディージャ', '川崎フロンターレ', '徳島ヴォルティス', '愛媛ＦＣ', '東京ヴェルディ', '松本山雅ＦＣ', '柏レイソル', '栃木ＳＣ', '横浜Ｆ・マリノス', '横浜ＦＣ', '水戸ホーリーホック', '浦和レッズ', '清水エスパルス', '湘南ベルマーレ', '鹿島アントラーズ', 'ＦＣ岐阜', 'ＦＣ東京', 'ＦＣ町田ゼルビア', 'Ｖ・ファーレン長崎', 'month', 'day', 'n_tv', 'bus', 'time_y', 'w_cup_home', 'w_cup_away', 'hokkaido', 'tokyo', 'nagoya', 'osaka', 'fukuoka'] ['away_score', 'home_score', 'match', 'stage', 'time_x', 'weather', 'year', 'NHK', 'NHK_2', 'mean', 'temperature-humidity', 'アビスパ福岡', 'アルビレックス新潟', 'カターレ富山', 'カマタマーレ讃岐', 'ガイナーレ鳥取', 'ガンバ大阪', 'ギラヴァンツ北九州', 'コンサドーレ札幌', 'サガン鳥栖', 'サンフレッチェ広島', 'ザスパクサツ群馬', 'ザスパ草津', 'ジェフユナイテッド千葉', 'ジュビロ磐田', 'セレッソ大阪', 'ファジアーノ岡山', 'ベガルタ仙台', 'モンテディオ山形', 'ロアッソ熊本', 'ヴァンフォーレ甲府', 'ヴィッセル神戸', '京都サンガF.C.', '名古屋グランパス', '大分トリニータ', '大宮アルディージャ', '川崎フロンターレ', '徳島ヴォルティス', '愛媛ＦＣ', '東京ヴェルディ', '松本山雅ＦＣ', '柏レイソル', '栃木ＳＣ', '横浜Ｆ・マリノス', '横浜ＦＣ', '水戸ホーリーホック', '浦和レッズ', '清水エスパルス', '湘南ベルマーレ', '鹿島アントラーズ', 'ＦＣ岐阜', 'ＦＣ東京', 'ＦＣ町田ゼルビア', 'Ｖ・ファーレン長崎', 'month', 'day', 'n_tv', 'bus', 'time_y', 'w_cup_home', 'w_cup_away', 'hokkaido', 'tokyo', 'nagoya', 'osaka', 'fukuoka']\nexpected id in input data",
     "output_type": "error",
     "traceback": [
      "\u001b[0;31m---------------------------------------------------------------------------\u001b[0m",
      "\u001b[0;31mValueError\u001b[0m                                Traceback (most recent call last)",
      "\u001b[0;32m<ipython-input-618-cef20827e11e>\u001b[0m in \u001b[0;36m<module>\u001b[0;34m()\u001b[0m\n\u001b[1;32m      1\u001b[0m \u001b[0;31m# second feature matrix\u001b[0m\u001b[0;34m\u001b[0m\u001b[0;34m\u001b[0m\u001b[0m\n\u001b[1;32m      2\u001b[0m test_3 = pd.DataFrame( {\n\u001b[0;32m----> 3\u001b[0;31m      \u001b[0;34m'XGB'\u001b[0m\u001b[0;34m:\u001b[0m \u001b[0mreg_xgb\u001b[0m\u001b[0;34m.\u001b[0m\u001b[0mpredict\u001b[0m\u001b[0;34m(\u001b[0m\u001b[0mtest\u001b[0m\u001b[0;34m)\u001b[0m\u001b[0;34m,\u001b[0m\u001b[0;34m\u001b[0m\u001b[0m\n\u001b[0m\u001b[1;32m      4\u001b[0m      \u001b[0;34m'XGB_2'\u001b[0m\u001b[0;34m:\u001b[0m \u001b[0mxgb_model\u001b[0m\u001b[0;34m.\u001b[0m\u001b[0mpredict\u001b[0m\u001b[0;34m(\u001b[0m\u001b[0mtest\u001b[0m\u001b[0;34m)\u001b[0m\u001b[0;34m\u001b[0m\u001b[0m\n\u001b[1;32m      5\u001b[0m     })\n",
      "\u001b[0;32m~/.pyenv/versions/anaconda3-5.1.0/lib/python3.6/site-packages/sklearn/utils/metaestimators.py\u001b[0m in \u001b[0;36m<lambda>\u001b[0;34m(*args, **kwargs)\u001b[0m\n\u001b[1;32m    113\u001b[0m \u001b[0;34m\u001b[0m\u001b[0m\n\u001b[1;32m    114\u001b[0m         \u001b[0;31m# lambda, but not partial, allows help() to work with update_wrapper\u001b[0m\u001b[0;34m\u001b[0m\u001b[0;34m\u001b[0m\u001b[0m\n\u001b[0;32m--> 115\u001b[0;31m         \u001b[0mout\u001b[0m \u001b[0;34m=\u001b[0m \u001b[0;32mlambda\u001b[0m \u001b[0;34m*\u001b[0m\u001b[0margs\u001b[0m\u001b[0;34m,\u001b[0m \u001b[0;34m**\u001b[0m\u001b[0mkwargs\u001b[0m\u001b[0;34m:\u001b[0m \u001b[0mself\u001b[0m\u001b[0;34m.\u001b[0m\u001b[0mfn\u001b[0m\u001b[0;34m(\u001b[0m\u001b[0mobj\u001b[0m\u001b[0;34m,\u001b[0m \u001b[0;34m*\u001b[0m\u001b[0margs\u001b[0m\u001b[0;34m,\u001b[0m \u001b[0;34m**\u001b[0m\u001b[0mkwargs\u001b[0m\u001b[0;34m)\u001b[0m\u001b[0;34m\u001b[0m\u001b[0m\n\u001b[0m\u001b[1;32m    116\u001b[0m         \u001b[0;31m# update the docstring of the returned function\u001b[0m\u001b[0;34m\u001b[0m\u001b[0;34m\u001b[0m\u001b[0m\n\u001b[1;32m    117\u001b[0m         \u001b[0mupdate_wrapper\u001b[0m\u001b[0;34m(\u001b[0m\u001b[0mout\u001b[0m\u001b[0;34m,\u001b[0m \u001b[0mself\u001b[0m\u001b[0;34m.\u001b[0m\u001b[0mfn\u001b[0m\u001b[0;34m)\u001b[0m\u001b[0;34m\u001b[0m\u001b[0m\n",
      "\u001b[0;32m~/.pyenv/versions/anaconda3-5.1.0/lib/python3.6/site-packages/sklearn/model_selection/_search.py\u001b[0m in \u001b[0;36mpredict\u001b[0;34m(self, X)\u001b[0m\n\u001b[1;32m    465\u001b[0m         \"\"\"\n\u001b[1;32m    466\u001b[0m         \u001b[0mself\u001b[0m\u001b[0;34m.\u001b[0m\u001b[0m_check_is_fitted\u001b[0m\u001b[0;34m(\u001b[0m\u001b[0;34m'predict'\u001b[0m\u001b[0;34m)\u001b[0m\u001b[0;34m\u001b[0m\u001b[0m\n\u001b[0;32m--> 467\u001b[0;31m         \u001b[0;32mreturn\u001b[0m \u001b[0mself\u001b[0m\u001b[0;34m.\u001b[0m\u001b[0mbest_estimator_\u001b[0m\u001b[0;34m.\u001b[0m\u001b[0mpredict\u001b[0m\u001b[0;34m(\u001b[0m\u001b[0mX\u001b[0m\u001b[0;34m)\u001b[0m\u001b[0;34m\u001b[0m\u001b[0m\n\u001b[0m\u001b[1;32m    468\u001b[0m \u001b[0;34m\u001b[0m\u001b[0m\n\u001b[1;32m    469\u001b[0m     \u001b[0;34m@\u001b[0m\u001b[0mif_delegate_has_method\u001b[0m\u001b[0;34m(\u001b[0m\u001b[0mdelegate\u001b[0m\u001b[0;34m=\u001b[0m\u001b[0;34m(\u001b[0m\u001b[0;34m'best_estimator_'\u001b[0m\u001b[0;34m,\u001b[0m \u001b[0;34m'estimator'\u001b[0m\u001b[0;34m)\u001b[0m\u001b[0;34m)\u001b[0m\u001b[0;34m\u001b[0m\u001b[0m\n",
      "\u001b[0;32m~/.pyenv/versions/anaconda3-5.1.0/lib/python3.6/site-packages/xgboost/sklearn.py\u001b[0m in \u001b[0;36mpredict\u001b[0;34m(self, data, output_margin, ntree_limit)\u001b[0m\n\u001b[1;32m    310\u001b[0m         return self.get_booster().predict(test_dmatrix,\n\u001b[1;32m    311\u001b[0m                                           \u001b[0moutput_margin\u001b[0m\u001b[0;34m=\u001b[0m\u001b[0moutput_margin\u001b[0m\u001b[0;34m,\u001b[0m\u001b[0;34m\u001b[0m\u001b[0m\n\u001b[0;32m--> 312\u001b[0;31m                                           ntree_limit=ntree_limit)\n\u001b[0m\u001b[1;32m    313\u001b[0m \u001b[0;34m\u001b[0m\u001b[0m\n\u001b[1;32m    314\u001b[0m     \u001b[0;32mdef\u001b[0m \u001b[0mapply\u001b[0m\u001b[0;34m(\u001b[0m\u001b[0mself\u001b[0m\u001b[0;34m,\u001b[0m \u001b[0mX\u001b[0m\u001b[0;34m,\u001b[0m \u001b[0mntree_limit\u001b[0m\u001b[0;34m=\u001b[0m\u001b[0;36m0\u001b[0m\u001b[0;34m)\u001b[0m\u001b[0;34m:\u001b[0m\u001b[0;34m\u001b[0m\u001b[0m\n",
      "\u001b[0;32m~/.pyenv/versions/anaconda3-5.1.0/lib/python3.6/site-packages/xgboost/core.py\u001b[0m in \u001b[0;36mpredict\u001b[0;34m(self, data, output_margin, ntree_limit, pred_leaf, pred_contribs, approx_contribs, pred_interactions)\u001b[0m\n\u001b[1;32m   1048\u001b[0m             \u001b[0moption_mask\u001b[0m \u001b[0;34m|=\u001b[0m \u001b[0;36m0x10\u001b[0m\u001b[0;34m\u001b[0m\u001b[0m\n\u001b[1;32m   1049\u001b[0m \u001b[0;34m\u001b[0m\u001b[0m\n\u001b[0;32m-> 1050\u001b[0;31m         \u001b[0mself\u001b[0m\u001b[0;34m.\u001b[0m\u001b[0m_validate_features\u001b[0m\u001b[0;34m(\u001b[0m\u001b[0mdata\u001b[0m\u001b[0;34m)\u001b[0m\u001b[0;34m\u001b[0m\u001b[0m\n\u001b[0m\u001b[1;32m   1051\u001b[0m \u001b[0;34m\u001b[0m\u001b[0m\n\u001b[1;32m   1052\u001b[0m         \u001b[0mlength\u001b[0m \u001b[0;34m=\u001b[0m \u001b[0mc_bst_ulong\u001b[0m\u001b[0;34m(\u001b[0m\u001b[0;34m)\u001b[0m\u001b[0;34m\u001b[0m\u001b[0m\n",
      "\u001b[0;32m~/.pyenv/versions/anaconda3-5.1.0/lib/python3.6/site-packages/xgboost/core.py\u001b[0m in \u001b[0;36m_validate_features\u001b[0;34m(self, data)\u001b[0m\n\u001b[1;32m   1306\u001b[0m \u001b[0;34m\u001b[0m\u001b[0m\n\u001b[1;32m   1307\u001b[0m                 raise ValueError(msg.format(self.feature_names,\n\u001b[0;32m-> 1308\u001b[0;31m                                             data.feature_names))\n\u001b[0m\u001b[1;32m   1309\u001b[0m \u001b[0;34m\u001b[0m\u001b[0m\n\u001b[1;32m   1310\u001b[0m     \u001b[0;32mdef\u001b[0m \u001b[0mget_split_value_histogram\u001b[0m\u001b[0;34m(\u001b[0m\u001b[0mself\u001b[0m\u001b[0;34m,\u001b[0m \u001b[0mfeature\u001b[0m\u001b[0;34m,\u001b[0m \u001b[0mfmap\u001b[0m\u001b[0;34m=\u001b[0m\u001b[0;34m''\u001b[0m\u001b[0;34m,\u001b[0m \u001b[0mbins\u001b[0m\u001b[0;34m=\u001b[0m\u001b[0;32mNone\u001b[0m\u001b[0;34m,\u001b[0m \u001b[0mas_pandas\u001b[0m\u001b[0;34m=\u001b[0m\u001b[0;32mTrue\u001b[0m\u001b[0;34m)\u001b[0m\u001b[0;34m:\u001b[0m\u001b[0;34m\u001b[0m\u001b[0m\n",
      "\u001b[0;31mValueError\u001b[0m: feature_names mismatch: ['away_score', 'home_score', 'id', 'match', 'stage', 'time_x', 'weather', 'year', 'NHK', 'NHK_2', 'mean', 'temperature-humidity', 'アビスパ福岡', 'アルビレックス新潟', 'カターレ富山', 'カマタマーレ讃岐', 'ガイナーレ鳥取', 'ガンバ大阪', 'ギラヴァンツ北九州', 'コンサドーレ札幌', 'サガン鳥栖', 'サンフレッチェ広島', 'ザスパクサツ群馬', 'ザスパ草津', 'ジェフユナイテッド千葉', 'ジュビロ磐田', 'セレッソ大阪', 'ファジアーノ岡山', 'ベガルタ仙台', 'モンテディオ山形', 'ロアッソ熊本', 'ヴァンフォーレ甲府', 'ヴィッセル神戸', '京都サンガF.C.', '名古屋グランパス', '大分トリニータ', '大宮アルディージャ', '川崎フロンターレ', '徳島ヴォルティス', '愛媛ＦＣ', '東京ヴェルディ', '松本山雅ＦＣ', '柏レイソル', '栃木ＳＣ', '横浜Ｆ・マリノス', '横浜ＦＣ', '水戸ホーリーホック', '浦和レッズ', '清水エスパルス', '湘南ベルマーレ', '鹿島アントラーズ', 'ＦＣ岐阜', 'ＦＣ東京', 'ＦＣ町田ゼルビア', 'Ｖ・ファーレン長崎', 'month', 'day', 'n_tv', 'bus', 'time_y', 'w_cup_home', 'w_cup_away', 'hokkaido', 'tokyo', 'nagoya', 'osaka', 'fukuoka'] ['away_score', 'home_score', 'match', 'stage', 'time_x', 'weather', 'year', 'NHK', 'NHK_2', 'mean', 'temperature-humidity', 'アビスパ福岡', 'アルビレックス新潟', 'カターレ富山', 'カマタマーレ讃岐', 'ガイナーレ鳥取', 'ガンバ大阪', 'ギラヴァンツ北九州', 'コンサドーレ札幌', 'サガン鳥栖', 'サンフレッチェ広島', 'ザスパクサツ群馬', 'ザスパ草津', 'ジェフユナイテッド千葉', 'ジュビロ磐田', 'セレッソ大阪', 'ファジアーノ岡山', 'ベガルタ仙台', 'モンテディオ山形', 'ロアッソ熊本', 'ヴァンフォーレ甲府', 'ヴィッセル神戸', '京都サンガF.C.', '名古屋グランパス', '大分トリニータ', '大宮アルディージャ', '川崎フロンターレ', '徳島ヴォルティス', '愛媛ＦＣ', '東京ヴェルディ', '松本山雅ＦＣ', '柏レイソル', '栃木ＳＣ', '横浜Ｆ・マリノス', '横浜ＦＣ', '水戸ホーリーホック', '浦和レッズ', '清水エスパルス', '湘南ベルマーレ', '鹿島アントラーズ', 'ＦＣ岐阜', 'ＦＣ東京', 'ＦＣ町田ゼルビア', 'Ｖ・ファーレン長崎', 'month', 'day', 'n_tv', 'bus', 'time_y', 'w_cup_home', 'w_cup_away', 'hokkaido', 'tokyo', 'nagoya', 'osaka', 'fukuoka']\nexpected id in input data"
     ]
    }
   ],
   "source": [
    "# second feature matrix\n",
    "test_3 = pd.DataFrame( {\n",
    "     'XGB': reg_xgb.predict(test),\n",
    "     'XGB_2': xgb_model.predict(test)\n",
    "    })\n"
   ]
  },
  {
   "cell_type": "code",
   "execution_count": 619,
   "metadata": {},
   "outputs": [
    {
     "ename": "ValueError",
     "evalue": "feature_names mismatch: ['away_score', 'home_score', 'id', 'match', 'stage', 'time_x', 'weather', 'year', 'NHK', 'NHK_2', 'mean', 'temperature-humidity', 'アビスパ福岡', 'アルビレックス新潟', 'カターレ富山', 'カマタマーレ讃岐', 'ガイナーレ鳥取', 'ガンバ大阪', 'ギラヴァンツ北九州', 'コンサドーレ札幌', 'サガン鳥栖', 'サンフレッチェ広島', 'ザスパクサツ群馬', 'ザスパ草津', 'ジェフユナイテッド千葉', 'ジュビロ磐田', 'セレッソ大阪', 'ファジアーノ岡山', 'ベガルタ仙台', 'モンテディオ山形', 'ロアッソ熊本', 'ヴァンフォーレ甲府', 'ヴィッセル神戸', '京都サンガF.C.', '名古屋グランパス', '大分トリニータ', '大宮アルディージャ', '川崎フロンターレ', '徳島ヴォルティス', '愛媛ＦＣ', '東京ヴェルディ', '松本山雅ＦＣ', '柏レイソル', '栃木ＳＣ', '横浜Ｆ・マリノス', '横浜ＦＣ', '水戸ホーリーホック', '浦和レッズ', '清水エスパルス', '湘南ベルマーレ', '鹿島アントラーズ', 'ＦＣ岐阜', 'ＦＣ東京', 'ＦＣ町田ゼルビア', 'Ｖ・ファーレン長崎', 'month', 'day', 'n_tv', 'bus', 'time_y', 'w_cup_home', 'w_cup_away', 'hokkaido', 'tokyo', 'nagoya', 'osaka', 'fukuoka'] ['away_score', 'home_score', 'match', 'stage', 'time_x', 'weather', 'year', 'NHK', 'NHK_2', 'mean', 'temperature-humidity', 'アビスパ福岡', 'アルビレックス新潟', 'カターレ富山', 'カマタマーレ讃岐', 'ガイナーレ鳥取', 'ガンバ大阪', 'ギラヴァンツ北九州', 'コンサドーレ札幌', 'サガン鳥栖', 'サンフレッチェ広島', 'ザスパクサツ群馬', 'ザスパ草津', 'ジェフユナイテッド千葉', 'ジュビロ磐田', 'セレッソ大阪', 'ファジアーノ岡山', 'ベガルタ仙台', 'モンテディオ山形', 'ロアッソ熊本', 'ヴァンフォーレ甲府', 'ヴィッセル神戸', '京都サンガF.C.', '名古屋グランパス', '大分トリニータ', '大宮アルディージャ', '川崎フロンターレ', '徳島ヴォルティス', '愛媛ＦＣ', '東京ヴェルディ', '松本山雅ＦＣ', '柏レイソル', '栃木ＳＣ', '横浜Ｆ・マリノス', '横浜ＦＣ', '水戸ホーリーホック', '浦和レッズ', '清水エスパルス', '湘南ベルマーレ', '鹿島アントラーズ', 'ＦＣ岐阜', 'ＦＣ東京', 'ＦＣ町田ゼルビア', 'Ｖ・ファーレン長崎', 'month', 'day', 'n_tv', 'bus', 'time_y', 'w_cup_home', 'w_cup_away', 'hokkaido', 'tokyo', 'nagoya', 'osaka', 'fukuoka']\nexpected id in input data",
     "output_type": "error",
     "traceback": [
      "\u001b[0;31m---------------------------------------------------------------------------\u001b[0m",
      "\u001b[0;31mValueError\u001b[0m                                Traceback (most recent call last)",
      "\u001b[0;32m<ipython-input-619-ffe321791260>\u001b[0m in \u001b[0;36m<module>\u001b[0;34m()\u001b[0m\n\u001b[0;32m----> 1\u001b[0;31m \u001b[0my_pred_2\u001b[0m \u001b[0;34m=\u001b[0m \u001b[0mreg_xgb\u001b[0m\u001b[0;34m.\u001b[0m\u001b[0mpredict\u001b[0m\u001b[0;34m(\u001b[0m\u001b[0mtest\u001b[0m\u001b[0;34m)\u001b[0m\u001b[0;34m\u001b[0m\u001b[0m\n\u001b[0m\u001b[1;32m      2\u001b[0m \u001b[0my_pred_3\u001b[0m \u001b[0;34m=\u001b[0m \u001b[0mxgb_model\u001b[0m\u001b[0;34m.\u001b[0m\u001b[0mpredict\u001b[0m\u001b[0;34m(\u001b[0m\u001b[0mtest\u001b[0m\u001b[0;34m)\u001b[0m\u001b[0;34m\u001b[0m\u001b[0m\n",
      "\u001b[0;32m~/.pyenv/versions/anaconda3-5.1.0/lib/python3.6/site-packages/sklearn/utils/metaestimators.py\u001b[0m in \u001b[0;36m<lambda>\u001b[0;34m(*args, **kwargs)\u001b[0m\n\u001b[1;32m    113\u001b[0m \u001b[0;34m\u001b[0m\u001b[0m\n\u001b[1;32m    114\u001b[0m         \u001b[0;31m# lambda, but not partial, allows help() to work with update_wrapper\u001b[0m\u001b[0;34m\u001b[0m\u001b[0;34m\u001b[0m\u001b[0m\n\u001b[0;32m--> 115\u001b[0;31m         \u001b[0mout\u001b[0m \u001b[0;34m=\u001b[0m \u001b[0;32mlambda\u001b[0m \u001b[0;34m*\u001b[0m\u001b[0margs\u001b[0m\u001b[0;34m,\u001b[0m \u001b[0;34m**\u001b[0m\u001b[0mkwargs\u001b[0m\u001b[0;34m:\u001b[0m \u001b[0mself\u001b[0m\u001b[0;34m.\u001b[0m\u001b[0mfn\u001b[0m\u001b[0;34m(\u001b[0m\u001b[0mobj\u001b[0m\u001b[0;34m,\u001b[0m \u001b[0;34m*\u001b[0m\u001b[0margs\u001b[0m\u001b[0;34m,\u001b[0m \u001b[0;34m**\u001b[0m\u001b[0mkwargs\u001b[0m\u001b[0;34m)\u001b[0m\u001b[0;34m\u001b[0m\u001b[0m\n\u001b[0m\u001b[1;32m    116\u001b[0m         \u001b[0;31m# update the docstring of the returned function\u001b[0m\u001b[0;34m\u001b[0m\u001b[0;34m\u001b[0m\u001b[0m\n\u001b[1;32m    117\u001b[0m         \u001b[0mupdate_wrapper\u001b[0m\u001b[0;34m(\u001b[0m\u001b[0mout\u001b[0m\u001b[0;34m,\u001b[0m \u001b[0mself\u001b[0m\u001b[0;34m.\u001b[0m\u001b[0mfn\u001b[0m\u001b[0;34m)\u001b[0m\u001b[0;34m\u001b[0m\u001b[0m\n",
      "\u001b[0;32m~/.pyenv/versions/anaconda3-5.1.0/lib/python3.6/site-packages/sklearn/model_selection/_search.py\u001b[0m in \u001b[0;36mpredict\u001b[0;34m(self, X)\u001b[0m\n\u001b[1;32m    465\u001b[0m         \"\"\"\n\u001b[1;32m    466\u001b[0m         \u001b[0mself\u001b[0m\u001b[0;34m.\u001b[0m\u001b[0m_check_is_fitted\u001b[0m\u001b[0;34m(\u001b[0m\u001b[0;34m'predict'\u001b[0m\u001b[0;34m)\u001b[0m\u001b[0;34m\u001b[0m\u001b[0m\n\u001b[0;32m--> 467\u001b[0;31m         \u001b[0;32mreturn\u001b[0m \u001b[0mself\u001b[0m\u001b[0;34m.\u001b[0m\u001b[0mbest_estimator_\u001b[0m\u001b[0;34m.\u001b[0m\u001b[0mpredict\u001b[0m\u001b[0;34m(\u001b[0m\u001b[0mX\u001b[0m\u001b[0;34m)\u001b[0m\u001b[0;34m\u001b[0m\u001b[0m\n\u001b[0m\u001b[1;32m    468\u001b[0m \u001b[0;34m\u001b[0m\u001b[0m\n\u001b[1;32m    469\u001b[0m     \u001b[0;34m@\u001b[0m\u001b[0mif_delegate_has_method\u001b[0m\u001b[0;34m(\u001b[0m\u001b[0mdelegate\u001b[0m\u001b[0;34m=\u001b[0m\u001b[0;34m(\u001b[0m\u001b[0;34m'best_estimator_'\u001b[0m\u001b[0;34m,\u001b[0m \u001b[0;34m'estimator'\u001b[0m\u001b[0;34m)\u001b[0m\u001b[0;34m)\u001b[0m\u001b[0;34m\u001b[0m\u001b[0m\n",
      "\u001b[0;32m~/.pyenv/versions/anaconda3-5.1.0/lib/python3.6/site-packages/xgboost/sklearn.py\u001b[0m in \u001b[0;36mpredict\u001b[0;34m(self, data, output_margin, ntree_limit)\u001b[0m\n\u001b[1;32m    310\u001b[0m         return self.get_booster().predict(test_dmatrix,\n\u001b[1;32m    311\u001b[0m                                           \u001b[0moutput_margin\u001b[0m\u001b[0;34m=\u001b[0m\u001b[0moutput_margin\u001b[0m\u001b[0;34m,\u001b[0m\u001b[0;34m\u001b[0m\u001b[0m\n\u001b[0;32m--> 312\u001b[0;31m                                           ntree_limit=ntree_limit)\n\u001b[0m\u001b[1;32m    313\u001b[0m \u001b[0;34m\u001b[0m\u001b[0m\n\u001b[1;32m    314\u001b[0m     \u001b[0;32mdef\u001b[0m \u001b[0mapply\u001b[0m\u001b[0;34m(\u001b[0m\u001b[0mself\u001b[0m\u001b[0;34m,\u001b[0m \u001b[0mX\u001b[0m\u001b[0;34m,\u001b[0m \u001b[0mntree_limit\u001b[0m\u001b[0;34m=\u001b[0m\u001b[0;36m0\u001b[0m\u001b[0;34m)\u001b[0m\u001b[0;34m:\u001b[0m\u001b[0;34m\u001b[0m\u001b[0m\n",
      "\u001b[0;32m~/.pyenv/versions/anaconda3-5.1.0/lib/python3.6/site-packages/xgboost/core.py\u001b[0m in \u001b[0;36mpredict\u001b[0;34m(self, data, output_margin, ntree_limit, pred_leaf, pred_contribs, approx_contribs, pred_interactions)\u001b[0m\n\u001b[1;32m   1048\u001b[0m             \u001b[0moption_mask\u001b[0m \u001b[0;34m|=\u001b[0m \u001b[0;36m0x10\u001b[0m\u001b[0;34m\u001b[0m\u001b[0m\n\u001b[1;32m   1049\u001b[0m \u001b[0;34m\u001b[0m\u001b[0m\n\u001b[0;32m-> 1050\u001b[0;31m         \u001b[0mself\u001b[0m\u001b[0;34m.\u001b[0m\u001b[0m_validate_features\u001b[0m\u001b[0;34m(\u001b[0m\u001b[0mdata\u001b[0m\u001b[0;34m)\u001b[0m\u001b[0;34m\u001b[0m\u001b[0m\n\u001b[0m\u001b[1;32m   1051\u001b[0m \u001b[0;34m\u001b[0m\u001b[0m\n\u001b[1;32m   1052\u001b[0m         \u001b[0mlength\u001b[0m \u001b[0;34m=\u001b[0m \u001b[0mc_bst_ulong\u001b[0m\u001b[0;34m(\u001b[0m\u001b[0;34m)\u001b[0m\u001b[0;34m\u001b[0m\u001b[0m\n",
      "\u001b[0;32m~/.pyenv/versions/anaconda3-5.1.0/lib/python3.6/site-packages/xgboost/core.py\u001b[0m in \u001b[0;36m_validate_features\u001b[0;34m(self, data)\u001b[0m\n\u001b[1;32m   1306\u001b[0m \u001b[0;34m\u001b[0m\u001b[0m\n\u001b[1;32m   1307\u001b[0m                 raise ValueError(msg.format(self.feature_names,\n\u001b[0;32m-> 1308\u001b[0;31m                                             data.feature_names))\n\u001b[0m\u001b[1;32m   1309\u001b[0m \u001b[0;34m\u001b[0m\u001b[0m\n\u001b[1;32m   1310\u001b[0m     \u001b[0;32mdef\u001b[0m \u001b[0mget_split_value_histogram\u001b[0m\u001b[0;34m(\u001b[0m\u001b[0mself\u001b[0m\u001b[0;34m,\u001b[0m \u001b[0mfeature\u001b[0m\u001b[0;34m,\u001b[0m \u001b[0mfmap\u001b[0m\u001b[0;34m=\u001b[0m\u001b[0;34m''\u001b[0m\u001b[0;34m,\u001b[0m \u001b[0mbins\u001b[0m\u001b[0;34m=\u001b[0m\u001b[0;32mNone\u001b[0m\u001b[0;34m,\u001b[0m \u001b[0mas_pandas\u001b[0m\u001b[0;34m=\u001b[0m\u001b[0;32mTrue\u001b[0m\u001b[0;34m)\u001b[0m\u001b[0;34m:\u001b[0m\u001b[0;34m\u001b[0m\u001b[0m\n",
      "\u001b[0;31mValueError\u001b[0m: feature_names mismatch: ['away_score', 'home_score', 'id', 'match', 'stage', 'time_x', 'weather', 'year', 'NHK', 'NHK_2', 'mean', 'temperature-humidity', 'アビスパ福岡', 'アルビレックス新潟', 'カターレ富山', 'カマタマーレ讃岐', 'ガイナーレ鳥取', 'ガンバ大阪', 'ギラヴァンツ北九州', 'コンサドーレ札幌', 'サガン鳥栖', 'サンフレッチェ広島', 'ザスパクサツ群馬', 'ザスパ草津', 'ジェフユナイテッド千葉', 'ジュビロ磐田', 'セレッソ大阪', 'ファジアーノ岡山', 'ベガルタ仙台', 'モンテディオ山形', 'ロアッソ熊本', 'ヴァンフォーレ甲府', 'ヴィッセル神戸', '京都サンガF.C.', '名古屋グランパス', '大分トリニータ', '大宮アルディージャ', '川崎フロンターレ', '徳島ヴォルティス', '愛媛ＦＣ', '東京ヴェルディ', '松本山雅ＦＣ', '柏レイソル', '栃木ＳＣ', '横浜Ｆ・マリノス', '横浜ＦＣ', '水戸ホーリーホック', '浦和レッズ', '清水エスパルス', '湘南ベルマーレ', '鹿島アントラーズ', 'ＦＣ岐阜', 'ＦＣ東京', 'ＦＣ町田ゼルビア', 'Ｖ・ファーレン長崎', 'month', 'day', 'n_tv', 'bus', 'time_y', 'w_cup_home', 'w_cup_away', 'hokkaido', 'tokyo', 'nagoya', 'osaka', 'fukuoka'] ['away_score', 'home_score', 'match', 'stage', 'time_x', 'weather', 'year', 'NHK', 'NHK_2', 'mean', 'temperature-humidity', 'アビスパ福岡', 'アルビレックス新潟', 'カターレ富山', 'カマタマーレ讃岐', 'ガイナーレ鳥取', 'ガンバ大阪', 'ギラヴァンツ北九州', 'コンサドーレ札幌', 'サガン鳥栖', 'サンフレッチェ広島', 'ザスパクサツ群馬', 'ザスパ草津', 'ジェフユナイテッド千葉', 'ジュビロ磐田', 'セレッソ大阪', 'ファジアーノ岡山', 'ベガルタ仙台', 'モンテディオ山形', 'ロアッソ熊本', 'ヴァンフォーレ甲府', 'ヴィッセル神戸', '京都サンガF.C.', '名古屋グランパス', '大分トリニータ', '大宮アルディージャ', '川崎フロンターレ', '徳島ヴォルティス', '愛媛ＦＣ', '東京ヴェルディ', '松本山雅ＦＣ', '柏レイソル', '栃木ＳＣ', '横浜Ｆ・マリノス', '横浜ＦＣ', '水戸ホーリーホック', '浦和レッズ', '清水エスパルス', '湘南ベルマーレ', '鹿島アントラーズ', 'ＦＣ岐阜', 'ＦＣ東京', 'ＦＣ町田ゼルビア', 'Ｖ・ファーレン長崎', 'month', 'day', 'n_tv', 'bus', 'time_y', 'w_cup_home', 'w_cup_away', 'hokkaido', 'tokyo', 'nagoya', 'osaka', 'fukuoka']\nexpected id in input data"
     ]
    }
   ],
   "source": [
    "y_pred_2 = reg_xgb.predict(test)\n",
    "y_pred_3 = xgb_model.predict(test)"
   ]
  },
  {
   "cell_type": "code",
   "execution_count": 620,
   "metadata": {},
   "outputs": [],
   "source": [
    "\n",
    "y_pred_4 = reg.predict(test_3)"
   ]
  },
  {
   "cell_type": "code",
   "execution_count": 107,
   "metadata": {},
   "outputs": [],
   "source": [
    "submission = pd.DataFrame({\n",
    "    \"id\": test_ID,\n",
    "    \"y\": y_pred_3\n",
    "})\n",
    "submission.to_csv('j_league_xgb_2.csv', index=False)\n"
   ]
  },
  {
   "cell_type": "code",
   "execution_count": 216,
   "metadata": {},
   "outputs": [],
   "source": [
    "submission = pd.DataFrame({\n",
    "    \"id\": test_ID,\n",
    "    \"y\": y_pred_4\n",
    "})\n",
    "submission.to_csv('j_league_exp.csv', index=False)\n"
   ]
  },
  {
   "cell_type": "code",
   "execution_count": 217,
   "metadata": {},
   "outputs": [
    {
     "data": {
      "text/plain": [
       "array([17887.848 , 14550.736 , 15243.06  , 15221.303 , 15285.    ,\n",
       "       18144.04  , 14815.217 , 15170.669 , 22009.338 , 18778.203 ,\n",
       "       22034.152 , 16320.629 , 15311.031 , 16627.973 , 23403.523 ,\n",
       "       14625.521 , 16905.432 , 13257.624 , 17426.785 , 22979.875 ,\n",
       "       17064.035 , 16481.793 , 18477.53  , 15470.861 , 18551.29  ,\n",
       "       19410.188 , 10101.673 , 10270.428 , 13258.494 , 17606.865 ,\n",
       "       21663.701 , 10690.77  , 12465.133 , 10260.01  , 10452.584 ,\n",
       "       15398.375 ,  9980.059 , 15334.597 , 28098.445 , 20064.75  ,\n",
       "       20233.953 , 16069.292 , 19718.137 , 15754.506 , 11934.76  ,\n",
       "       15821.463 , 20863.18  , 11720.281 , 10294.005 , 11183.904 ,\n",
       "       12457.218 ,  8646.402 , 11708.762 , 14445.39  , 12374.586 ,\n",
       "       10742.449 , 11132.037 , 10275.834 , 11993.504 ,  7233.0933,\n",
       "       11506.293 , 11803.854 , 17222.658 , 14492.646 , 17350.904 ,\n",
       "       18883.05  , 15483.566 , 13319.33  , 17695.984 , 18245.607 ,\n",
       "       16493.898 , 36629.035 , 36539.324 , 34084.477 , 33064.914 ,\n",
       "       22871.562 , 29454.652 , 43472.164 , 45170.44  , 25880.    ,\n",
       "       25159.941 , 34487.22  , 24506.719 , 46772.152 , 27785.715 ,\n",
       "       30147.729 , 27167.086 , 23375.262 , 27512.102 , 26790.123 ,\n",
       "       21598.316 , 27464.734 , 24852.15  , 28039.809 , 19577.66  ,\n",
       "       27938.912 , 28870.498 , 23559.79  , 16317.393 , 15007.082 ,\n",
       "       19304.082 , 13110.565 , 14976.764 , 15507.121 ,  8196.729 ,\n",
       "        8811.909 ,  8532.926 ,  8476.705 ,  8350.338 , 11285.982 ,\n",
       "       14451.694 , 13001.057 , 13235.201 , 12939.84  , 14996.32  ,\n",
       "       16829.453 , 16971.98  , 31080.844 , 27042.477 , 23224.848 ,\n",
       "       26336.133 , 23622.785 , 23051.41  , 29783.434 , 10471.757 ,\n",
       "        2146.9243,  3014.6985,  3923.252 ,  3748.8904,  4410.204 ,\n",
       "        6954.789 , 15566.971 , 12257.881 , 11404.943 , 15055.127 ,\n",
       "       19771.926 , 14386.4   , 10831.32  ,  5584.7773,  6051.168 ,\n",
       "        5833.0205,  5442.1377,  7205.384 ,  5986.158 ,  5971.942 ,\n",
       "        6267.616 , 22075.016 , 12290.125 ,  4429.381 , 11884.522 ,\n",
       "        3781.943 ,  4299.1504,  3936.5488,  4112.789 ,  5202.7153,\n",
       "        7466.454 , 12784.17  , 14370.199 , 12239.859 , 11930.887 ,\n",
       "       11037.586 , 12961.236 , 13507.385 , 13050.597 ,  5694.1436,\n",
       "        5158.4927,  4789.218 ,  5512.535 ,  4777.8545,  5515.9893,\n",
       "        9146.232 ,  7289.4863,  7703.307 ,  6603.5938,  7948.4604,\n",
       "        7100.9326,  8897.38  ,  6873.7754,  9860.776 , 10362.765 ,\n",
       "       12222.358 ,  5009.2715,  4333.1465,  6078.993 ,  3746.8728,\n",
       "        4035.664 ,  6651.08  ,  6166.1157,  6938.336 ,  7413.4243,\n",
       "        7094.771 ,  6983.188 ,  8338.887 ,  8883.77  , 12616.303 ,\n",
       "        8880.977 , 13092.901 , 14102.428 , 10637.326 , 10168.101 ,\n",
       "        8960.148 ,  9410.477 ,  9470.455 ,  9082.28  ,  9324.488 ,\n",
       "       11821.459 ,  3646.0156,  4518.4697,  5346.808 ,  3993.766 ,\n",
       "        5192.9355,  3052.0425,  5813.998 ,  5758.3975,  6381.332 ,\n",
       "        7706.49  ,  7008.257 ,  6470.289 ,  6324.9336,  7602.9004,\n",
       "        6164.244 , 10543.692 ,  3509.8372,  3662.3374,  3539.2688,\n",
       "        6381.1553,  4659.3594,  3041.585 ,  3797.2212,  3725.3384,\n",
       "        3991.0415,  5177.793 ,  4491.665 ,  4404.699 ,  4417.471 ,\n",
       "        4529.8306,  4139.3496,  3565.197 ,  6448.749 , 12349.4   ,\n",
       "       11159.889 , 11370.721 , 11404.809 , 10900.531 , 11263.391 ,\n",
       "       12422.135 , 17208.107 , 11371.566 , 14303.066 , 15287.775 ,\n",
       "       13352.68  , 13178.055 , 12589.797 , 11906.971 , 23079.611 ,\n",
       "        5239.29  ,  3712.5503,  3486.9424,  3518.144 ,  3634.425 ,\n",
       "        4731.5635,  6618.5225,  5411.704 ,  6600.5137,  6283.5063,\n",
       "        5932.2583,  8183.8203,  5707.7354,  5699.157 , 11995.082 ,\n",
       "        7887.7583,  7690.625 ,  7015.745 ,  6707.831 ,  7361.9214,\n",
       "        9585.873 ,  7200.4277,  8586.851 ,  8793.201 , 15427.309 ,\n",
       "        7477.5127,  6281.6826,  6086.289 ,  5961.9053,  6080.91  ,\n",
       "        5552.801 ,  6397.335 ,  6821.8555,  6852.884 ,  3377.1245,\n",
       "        4104.832 ,  4753.7715,  4243.419 ,  3708.3296,  6292.2915,\n",
       "        6298.5366,  6982.9336,  7017.1523,  8102.83  ,  4838.6836,\n",
       "        4475.949 ,  6529.22  ,  6963.3706,  7718.162 ,  5188.1025,\n",
       "        5512.395 ,  2952.31  ,  2955.073 ,  3220.4033,  2873.631 ,\n",
       "        2853.6772,  7517.261 ,  6601.472 ], dtype=float32)"
      ]
     },
     "execution_count": 217,
     "metadata": {},
     "output_type": "execute_result"
    }
   ],
   "source": [
    "y_pred_4"
   ]
  },
  {
   "cell_type": "code",
   "execution_count": 315,
   "metadata": {},
   "outputs": [
    {
     "name": "stdout",
     "output_type": "stream",
     "text": [
      "RMSE\n",
      "train: 3981.128\n",
      "test : 4507.968\n",
      "train: 1456.355\n",
      "test : 3324.335\n",
      "train: 1942.577\n",
      "test : 3814.708\n"
     ]
    }
   ],
   "source": [
    "# MSEを出力する関数を読み込む\n",
    "from sklearn.metrics import mean_squared_error as mse\n",
    "\n",
    "# RMSEをtrainとtestに分けて出力\n",
    "# 過学習をしているかどうかを確認\n",
    "print('RMSE')\n",
    "print('train: %.3f' % (mse(y_train, lr.predict(X_train)) ** (1/2)))\n",
    "print('test : %.3f' % (mse(y_test, lr.predict(X_test)) ** (1/2)))\n",
    "print('train: %.3f' % (mse(y_train, reg_xgb.predict(X_train)) ** (1/2)))\n",
    "print('test : %.3f' % (mse(y_test, reg_xgb.predict(X_test)) ** (1/2)))\n",
    "print('train: %.3f' % (mse(y_train, reg_rf.predict(X_train)) ** (1/2)))\n",
    "print('test : %.3f' % (mse(y_test, reg_rf.predict(X_test)) ** (1/2)))"
   ]
  },
  {
   "cell_type": "code",
   "execution_count": 318,
   "metadata": {},
   "outputs": [],
   "source": [
    "# 残差プロットを行う関数を定義\n",
    "def res_plot(y_train, y_train_pred, y_test, y_test_pred):\n",
    "    # train, testごとに残差を算出\n",
    "    res_train = y_train_pred - y_train\n",
    "    res_test  = y_test_pred - y_test\n",
    "    \n",
    "    # train, testごとに(予測値, 残差)をプロット\n",
    "    plt.figure(figsize=(8, 8))\n",
    "    plt.scatter(y_train_pred, res_train, color='blue', marker='o', label='train', alpha=0.5)\n",
    "    plt.scatter(y_test_pred, res_test, color='green', marker='s', label='test', alpha=0.5)\n",
    "    \n",
    "    plt.xlabel('Predicted Values')                  # x軸のラベルを表示\n",
    "    plt.ylabel('Residuals')                         # y軸のラベルを表示\n",
    "    plt.legend(loc='upper left')                    # 凡例を左上に表示\n",
    "    plt.hlines(y=0, xmin=-10, xmax=50, color='red') # 残差0の線を表示\n",
    "    plt.xlim([-10, 50])                             # 表示する横軸の範囲を指定\n",
    "    plt.show()"
   ]
  },
  {
   "cell_type": "code",
   "execution_count": 319,
   "metadata": {},
   "outputs": [
    {
     "data": {
      "image/png": "[encoded data removed]",
      "text/plain": [
       "<matplotlib.figure.Figure at 0x1a13cbb400>"
      ]
     },
     "metadata": {},
     "output_type": "display_data"
    }
   ],
   "source": [
    "# 残差プロットを出力\n",
    "res_plot(y_train, reg_xgb.predict(X_train), y_test, reg_xgb.predict(X_test))"
   ]
  },
  {
   "cell_type": "code",
   "execution_count": null,
   "metadata": {},
   "outputs": [],
   "source": []
  }
 ],
 "metadata": {
  "kernelspec": {
   "display_name": "Python 3",
   "language": "python",
   "name": "python3"
  },
  "language_info": {
   "codemirror_mode": {
    "name": "ipython",
    "version": 3
   },
   "file_extension": ".py",
   "mimetype": "text/x-python",
   "name": "python",
   "nbconvert_exporter": "python",
   "pygments_lexer": "ipython3",
   "version": "3.6.4"
  }
 },
 "nbformat": 4,
 "nbformat_minor": 2
}
