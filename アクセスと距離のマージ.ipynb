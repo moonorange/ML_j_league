{
 "cells": [
  {
   "cell_type": "code",
   "execution_count": 2,
   "metadata": {},
   "outputs": [],
   "source": [
    "import scipy as sp\n",
    "import numpy as np\n",
    "import pandas as pd\n",
    "import matplotlib.pyplot as plt\n",
    "import seaborn as sns\n",
    "# グラフをインラインで表示させる\n",
    "%matplotlib inline\n",
    "\n",
    "# Pandasでの表示が省略されないように設定\n",
    "pd.set_option(\"max_columns\", 100)\n",
    "pd.set_option('max_rows',100)\n",
    "pd.set_option('max_info_columns',100)"
   ]
  },
  {
   "cell_type": "code",
   "execution_count": 5,
   "metadata": {},
   "outputs": [],
   "source": [
    "\n",
    "dist = pd.read_csv('distance.csv')"
   ]
  },
  {
   "cell_type": "code",
   "execution_count": 7,
   "metadata": {},
   "outputs": [],
   "source": [
    "mindis = pd.merge(dist, minutes)"
   ]
  },
  {
   "cell_type": "code",
   "execution_count": 8,
   "metadata": {},
   "outputs": [
    {
     "data": {
      "text/html": [
       "<div>\n",
       "<style scoped>\n",
       "    .dataframe tbody tr th:only-of-type {\n",
       "        vertical-align: middle;\n",
       "    }\n",
       "\n",
       "    .dataframe tbody tr th {\n",
       "        vertical-align: top;\n",
       "    }\n",
       "\n",
       "    .dataframe thead th {\n",
       "        text-align: right;\n",
       "    }\n",
       "</style>\n",
       "<table border=\"1\" class=\"dataframe\">\n",
       "  <thead>\n",
       "    <tr style=\"text-align: right;\">\n",
       "      <th></th>\n",
       "      <th>Unnamed: 0</th>\n",
       "      <th>hokkaido</th>\n",
       "      <th>tokyo</th>\n",
       "      <th>nagoya</th>\n",
       "      <th>osaka</th>\n",
       "      <th>fukuoka</th>\n",
       "      <th>name</th>\n",
       "      <th>bus</th>\n",
       "      <th>time</th>\n",
       "    </tr>\n",
       "  </thead>\n",
       "  <tbody>\n",
       "    <tr>\n",
       "      <th>0</th>\n",
       "      <td>0</td>\n",
       "      <td>848.417878</td>\n",
       "      <td>18.709829</td>\n",
       "      <td>296.107278</td>\n",
       "      <td>458.442319</td>\n",
       "      <td>1038.203291</td>\n",
       "      <td>名古屋市瑞穂陸上競技場</td>\n",
       "      <td>0</td>\n",
       "      <td>11</td>\n",
       "    </tr>\n",
       "    <tr>\n",
       "      <th>1</th>\n",
       "      <td>1</td>\n",
       "      <td>867.281017</td>\n",
       "      <td>26.238256</td>\n",
       "      <td>301.549952</td>\n",
       "      <td>462.307660</td>\n",
       "      <td>1042.143368</td>\n",
       "      <td>豊田スタジアム</td>\n",
       "      <td>0</td>\n",
       "      <td>19</td>\n",
       "    </tr>\n",
       "    <tr>\n",
       "      <th>2</th>\n",
       "      <td>2</td>\n",
       "      <td>1405.989903</td>\n",
       "      <td>795.894494</td>\n",
       "      <td>483.234115</td>\n",
       "      <td>319.570527</td>\n",
       "      <td>265.115018</td>\n",
       "      <td>フクダ電子アリーナ</td>\n",
       "      <td>0</td>\n",
       "      <td>14</td>\n",
       "    </tr>\n",
       "    <tr>\n",
       "      <th>3</th>\n",
       "      <td>3</td>\n",
       "      <td>1606.822772</td>\n",
       "      <td>1052.806769</td>\n",
       "      <td>738.415252</td>\n",
       "      <td>575.779843</td>\n",
       "      <td>5.207566</td>\n",
       "      <td>日立柏サッカー場</td>\n",
       "      <td>0</td>\n",
       "      <td>4</td>\n",
       "    </tr>\n",
       "    <tr>\n",
       "      <th>4</th>\n",
       "      <td>4</td>\n",
       "      <td>537.268399</td>\n",
       "      <td>304.004116</td>\n",
       "      <td>521.530505</td>\n",
       "      <td>675.501435</td>\n",
       "      <td>1225.855143</td>\n",
       "      <td>ニンジニアスタジアム</td>\n",
       "      <td>0</td>\n",
       "      <td>13</td>\n",
       "    </tr>\n",
       "  </tbody>\n",
       "</table>\n",
       "</div>"
      ],
      "text/plain": [
       "   Unnamed: 0     hokkaido        tokyo      nagoya       osaka      fukuoka  \\\n",
       "0           0   848.417878    18.709829  296.107278  458.442319  1038.203291   \n",
       "1           1   867.281017    26.238256  301.549952  462.307660  1042.143368   \n",
       "2           2  1405.989903   795.894494  483.234115  319.570527   265.115018   \n",
       "3           3  1606.822772  1052.806769  738.415252  575.779843     5.207566   \n",
       "4           4   537.268399   304.004116  521.530505  675.501435  1225.855143   \n",
       "\n",
       "          name  bus  time  \n",
       "0  名古屋市瑞穂陸上競技場    0    11  \n",
       "1      豊田スタジアム    0    19  \n",
       "2    フクダ電子アリーナ    0    14  \n",
       "3     日立柏サッカー場    0     4  \n",
       "4   ニンジニアスタジアム    0    13  "
      ]
     },
     "execution_count": 8,
     "metadata": {},
     "output_type": "execute_result"
    }
   ],
   "source": [
    "mindis.head()"
   ]
  },
  {
   "cell_type": "code",
   "execution_count": null,
   "metadata": {},
   "outputs": [],
   "source": []
  }
 ],
 "metadata": {
  "kernelspec": {
   "display_name": "Python 3",
   "language": "python",
   "name": "python3"
  },
  "language_info": {
   "codemirror_mode": {
    "name": "ipython",
    "version": 3
   },
   "file_extension": ".py",
   "mimetype": "text/x-python",
   "name": "python",
   "nbconvert_exporter": "python",
   "pygments_lexer": "ipython3",
   "version": "3.6.4"
  }
 },
 "nbformat": 4,
 "nbformat_minor": 2
}
